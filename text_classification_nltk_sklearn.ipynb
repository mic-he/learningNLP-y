{
 "cells": [
  {
   "cell_type": "markdown",
   "metadata": {},
   "source": [
    "# Multi-class text classification with Python \n",
    "\n",
    "Using nltk, gensim, scikit-learn.\n",
    "\n",
    "This notebook follows the tutorial available at: https://towardsdatascience.com/multi-class-text-classification-model-comparison-and-selection-5eb066197568"
   ]
  },
  {
   "cell_type": "code",
   "execution_count": 1,
   "metadata": {},
   "outputs": [],
   "source": [
    "# basic\n",
    "import pandas as pd\n",
    "import numpy as np\n",
    "\n",
    "# text processing\n",
    "import nltk\n",
    "from nltk.corpus import stopwords \n",
    "import re\n",
    "from bs4 import BeautifulSoup\n",
    "import gensim\n",
    "from gensim.models import Word2Vec\n",
    "\n",
    "# machine learning\n",
    "import sklearn\n",
    "from sklearn.model_selection import train_test_split\n",
    "from sklearn.pipeline import Pipeline\n",
    "from sklearn.feature_extraction.text import CountVectorizer, TfidfTransformer\n",
    "from sklearn.preprocessing import LabelBinarizer, LabelEncoder\n",
    "from sklearn.metrics import classification_report, accuracy_score, confusion_matrix\n",
    "from sklearn.naive_bayes import MultinomialNB\n",
    "from sklearn.linear_model import SGDClassifier, LogisticRegression\n",
    "\n",
    "# misc\n",
    "import logging\n",
    "\n",
    "# plots\n",
    "import matplotlib.pyplot as plt\n",
    "%matplotlib inline"
   ]
  },
  {
   "cell_type": "markdown",
   "metadata": {},
   "source": [
    "## Pre-processing\n",
    "\n",
    "The data comes from https://storage.googleapis.com/tensorflow-workshop-examples/stack-overflow-data.csv"
   ]
  },
  {
   "cell_type": "code",
   "execution_count": 2,
   "metadata": {},
   "outputs": [
    {
     "name": "stdout",
     "output_type": "stream",
     "text": [
      "                                                post           tags\n",
      "0  what is causing this behavior  in our c# datet...             c#\n",
      "1  have dynamic html load as if it was in an ifra...        asp.net\n",
      "2  how to convert a float value in to min:sec  i ...    objective-c\n",
      "3  .net framework 4 redistributable  just wonderi...           .net\n",
      "4  trying to calculate and print the mean and its...         python\n",
      "5  how to give alias name for my website  i have ...        asp.net\n",
      "6  window.open() returns null in angularjs  it wo...      angularjs\n",
      "7  identifying server timeout quickly in iphone  ...         iphone\n",
      "8  unknown method key  error in rails 2.3.8 unit ...  ruby-on-rails\n",
      "9  from the include  how to show and hide the con...      angularjs\n",
      "10286120\n"
     ]
    }
   ],
   "source": [
    "df = pd.read_csv('data/stack-overflow-data.csv') # read data\n",
    "df = df[pd.notnull(df['tags'])] # filter data removing rows with empty tag\n",
    "print(df.head(10))\n",
    "print(df['post'].apply(lambda x: len(x.split(' '))).sum()) # number of words (with duplicates)"
   ]
  },
  {
   "cell_type": "markdown",
   "metadata": {},
   "source": [
    "Each post is associated with a tag (programming language/framework, our classification labels). There are >10m words (with duplicates) in the data.\n",
    "\n",
    "We can explore the distributions of tags, to make sure labels will be balanced:"
   ]
  },
  {
   "cell_type": "code",
   "execution_count": 3,
   "metadata": {},
   "outputs": [
    {
     "name": "stdout",
     "output_type": "stream",
     "text": [
      "['c#' 'asp.net' 'objective-c' '.net' 'python' 'angularjs' 'iphone'\n",
      " 'ruby-on-rails' 'ios' 'c' 'sql' 'java' 'jquery' 'css' 'c++' 'php'\n",
      " 'android' 'mysql' 'javascript' 'html']\n"
     ]
    }
   ],
   "source": [
    "my_tags = df['tags'].unique() # extract unique tags\n",
    "print(my_tags)"
   ]
  },
  {
   "cell_type": "markdown",
   "metadata": {},
   "source": [
    "Plot distribution:"
   ]
  },
  {
   "cell_type": "code",
   "execution_count": 4,
   "metadata": {},
   "outputs": [
    {
     "data": {
      "image/png": "[encoded data removed]",
      "text/plain": [
       "<Figure size 720x288 with 1 Axes>"
      ]
     },
     "metadata": {
      "needs_background": "light"
     },
     "output_type": "display_data"
    }
   ],
   "source": [
    "plt.figure(figsize=(10,4))\n",
    "df.tags.value_counts().plot(kind='bar');"
   ]
  },
  {
   "cell_type": "markdown",
   "metadata": {},
   "source": [
    "Perfectly balanced.\n",
    "\n",
    "Next, we define a function to quickly take a look at any post with its tag, using its index. Useful to explore data, see what needs to be clean, and to compare data before/after text processing."
   ]
  },
  {
   "cell_type": "code",
   "execution_count": 5,
   "metadata": {},
   "outputs": [],
   "source": [
    "def print_post(index):\n",
    "    example = df[df.index == index].values[0] # get post\n",
    "    if len(example) > 0: # if not empty, print post and tag\n",
    "        print(example[0])\n",
    "        print('Tag:', example[1])"
   ]
  },
  {
   "cell_type": "markdown",
   "metadata": {},
   "source": [
    "For example:"
   ]
  },
  {
   "cell_type": "code",
   "execution_count": 6,
   "metadata": {},
   "outputs": [
    {
     "name": "stdout",
     "output_type": "stream",
     "text": [
      "when we need interface c# <blockquote>    <strong>possible duplicate:</strong><br>   <a href= https://stackoverflow.com/questions/240152/why-would-i-want-to-use-interfaces >why would i want to use interfaces </a>   <a href= https://stackoverflow.com/questions/9451868/why-i-need-interface >why i need interface </a>    </blockquote>     i want to know where and when to use it     for example    <pre><code>interface idemo {  // function prototype  public void show(); }  // first class using the interface class myclass1 : idemo {  public void show()  {   // function body comes here   response.write( i m in myclass );  }  }  // second class using the interface class myclass2 : idemo {  public void show()   {   // function body comes here   response.write( i m in myclass2 );   response.write( so  what  );  } </code></pre>   these two classes has the same function name with different body. this can be even achieved without interface. then why we need an interface where and when to use it\n",
      "Tag: c#\n"
     ]
    }
   ],
   "source": [
    "print_post(10)"
   ]
  },
  {
   "cell_type": "markdown",
   "metadata": {},
   "source": [
    "We can observe the text needs to be clean, in particular remove html tags and other symbols.\n",
    "\n",
    "To do so, we define a function which strips problematic symbols, remove stopwords, and set everything to lowercase."
   ]
  },
  {
   "cell_type": "code",
   "execution_count": 7,
   "metadata": {},
   "outputs": [],
   "source": [
    "symbols_to_replace = re.compile('[/(){}\\[\\]\\|@,;]') # these we replace with spaces\n",
    "symbols_to_remove = re.compile('[^0-9a-z #+_]') # these we remove\n",
    "stopwords_to_remove = set(stopwords.words('english')) # english stopwords to remove\n",
    "\n",
    "def clean_post(text):\n",
    "    text = BeautifulSoup(text, \"lxml\").text # HTML decoding\n",
    "    text = text.lower() # lowercase text\n",
    "    text = symbols_to_replace.sub(' ', text) # replace symbols with space in text\n",
    "    text = symbols_to_remove.sub('', text) # delete symbols from text\n",
    "    text = ' '.join(word for word in text.split() if word not in stopwords_to_remove) # delete stopwors from text\n",
    "    return text"
   ]
  },
  {
   "cell_type": "markdown",
   "metadata": {},
   "source": [
    "For example:"
   ]
  },
  {
   "cell_type": "code",
   "execution_count": 8,
   "metadata": {},
   "outputs": [
    {
     "name": "stdout",
     "output_type": "stream",
     "text": [
      "need interface c# possible duplicate function prototype public void show\n"
     ]
    }
   ],
   "source": [
    "dirty_text = \"when we need interface c# <blockquote> <strong>possible duplicate:</strong><br> {  // function prototype  public void show();\"\n",
    "clean_text = clean_post(dirty_text)\n",
    "print(clean_text)"
   ]
  },
  {
   "cell_type": "markdown",
   "metadata": {},
   "source": [
    "Apply function to all posts:"
   ]
  },
  {
   "cell_type": "code",
   "execution_count": 9,
   "metadata": {},
   "outputs": [
    {
     "name": "stdout",
     "output_type": "stream",
     "text": [
      "need interface c# possible duplicate would want use interfaces need interface want know use example interface idemo function prototype public void show first class using interface class myclass1 idemo public void show function body comes responsewrite myclass second class using interface class myclass2 idemo public void show function body comes responsewrite myclass2 responsewrite two classes function name different body even achieved without interface need interface use\n",
      "Tag: c#\n"
     ]
    }
   ],
   "source": [
    "df['post'] = df['post'].apply(clean_post)\n",
    "print_post(10)"
   ]
  },
  {
   "cell_type": "markdown",
   "metadata": {},
   "source": [
    "How many words now?"
   ]
  },
  {
   "cell_type": "code",
   "execution_count": 10,
   "metadata": {},
   "outputs": [
    {
     "data": {
      "text/plain": [
       "3424297"
      ]
     },
     "execution_count": 10,
     "metadata": {},
     "output_type": "execute_result"
    }
   ],
   "source": [
    "df['post'].apply(lambda x: len(x.split(' '))).sum()"
   ]
  },
  {
   "cell_type": "markdown",
   "metadata": {},
   "source": [
    "After cleaning, there are \"only\" ~3.5m words (with duplicates)."
   ]
  },
  {
   "cell_type": "markdown",
   "metadata": {},
   "source": [
    "Next, we can move to splitting train and test set, and feature engineering."
   ]
  },
  {
   "cell_type": "code",
   "execution_count": 11,
   "metadata": {},
   "outputs": [],
   "source": [
    "X = df.post # features are the posts\n",
    "y = df.tags # labels are the tags\n",
    "X_train, X_test, y_train, y_test = train_test_split(X, y, test_size=0.3, random_state = 42) # split"
   ]
  },
  {
   "cell_type": "markdown",
   "metadata": {},
   "source": [
    "## First model: multinomial Naive Bayes\n",
    "\n",
    "Using tf-idf representation of features. We use scikit-learn's pipeline."
   ]
  },
  {
   "cell_type": "code",
   "execution_count": 12,
   "metadata": {},
   "outputs": [
    {
     "name": "stdout",
     "output_type": "stream",
     "text": [
      "accuracy 0.7395\n",
      "               precision    recall  f1-score   support\n",
      "\n",
      "           c#       0.63      0.65      0.64       613\n",
      "      asp.net       0.94      0.86      0.90       620\n",
      "  objective-c       0.87      0.92      0.90       587\n",
      "         .net       0.70      0.77      0.73       586\n",
      "       python       0.73      0.87      0.79       599\n",
      "    angularjs       0.72      0.51      0.60       589\n",
      "       iphone       0.77      0.74      0.75       594\n",
      "ruby-on-rails       0.69      0.89      0.78       610\n",
      "          ios       0.63      0.59      0.61       617\n",
      "            c       0.57      0.65      0.60       587\n",
      "          sql       0.70      0.50      0.59       611\n",
      "         java       0.79      0.78      0.79       594\n",
      "       jquery       0.84      0.59      0.69       619\n",
      "          css       0.66      0.84      0.74       574\n",
      "          c++       0.64      0.83      0.72       584\n",
      "          php       0.66      0.64      0.65       578\n",
      "      android       0.79      0.77      0.78       591\n",
      "        mysql       0.89      0.83      0.86       608\n",
      "   javascript       0.94      0.89      0.91       638\n",
      "         html       0.74      0.66      0.70       601\n",
      "\n",
      "    micro avg       0.74      0.74      0.74     12000\n",
      "    macro avg       0.74      0.74      0.74     12000\n",
      " weighted avg       0.75      0.74      0.74     12000\n",
      "\n"
     ]
    }
   ],
   "source": [
    "# define pipeline\n",
    "nb = Pipeline([('vect', CountVectorizer()), # transform text into matrix of token counts\n",
    "               ('tfidf', TfidfTransformer()), # from token counts to normalized tf-idf\n",
    "               ('clf', MultinomialNB()), # naive bayes classifier\n",
    "              ])\n",
    "\n",
    "nb.fit(X_train, y_train) # training\n",
    "\n",
    "y_pred = nb.predict(X_test) # inference on test set\n",
    "\n",
    "# print report\n",
    "print('accuracy %s' % accuracy_score(y_pred, y_test))\n",
    "print(classification_report(y_test, y_pred,target_names=my_tags))"
   ]
  },
  {
   "cell_type": "markdown",
   "metadata": {},
   "source": [
    "Not a bad start for an out-of-the-box model."
   ]
  },
  {
   "cell_type": "markdown",
   "metadata": {},
   "source": [
    "## Second model: linear support vector machine\n",
    "\n",
    "(again on tf-idf transformed features)"
   ]
  },
  {
   "cell_type": "code",
   "execution_count": 13,
   "metadata": {},
   "outputs": [
    {
     "name": "stderr",
     "output_type": "stream",
     "text": [
      "/usr/local/lib/python3.5/dist-packages/sklearn/linear_model/stochastic_gradient.py:183: FutureWarning: max_iter and tol parameters have been added in SGDClassifier in 0.19. If max_iter is set but tol is left unset, the default value for tol in 0.19 and 0.20 will be None (which is equivalent to -infinity, so it has no effect) but will change in 0.21 to 1e-3. Specify tol to silence this warning.\n",
      "  FutureWarning)\n"
     ]
    },
    {
     "name": "stdout",
     "output_type": "stream",
     "text": [
      "accuracy 0.7883333333333333\n",
      "               precision    recall  f1-score   support\n",
      "\n",
      "           c#       0.74      0.67      0.70       613\n",
      "      asp.net       0.84      0.93      0.88       620\n",
      "  objective-c       0.87      0.95      0.91       587\n",
      "         .net       0.81      0.80      0.81       586\n",
      "       python       0.74      0.88      0.81       599\n",
      "    angularjs       0.76      0.40      0.52       589\n",
      "       iphone       0.83      0.68      0.75       594\n",
      "ruby-on-rails       0.70      0.95      0.81       610\n",
      "          ios       0.82      0.56      0.66       617\n",
      "            c       0.72      0.59      0.65       587\n",
      "          sql       0.71      0.65      0.68       611\n",
      "         java       0.81      0.87      0.84       594\n",
      "       jquery       0.76      0.79      0.78       619\n",
      "          css       0.83      0.86      0.85       574\n",
      "          c++       0.82      0.80      0.81       584\n",
      "          php       0.70      0.68      0.69       578\n",
      "      android       0.80      0.90      0.85       591\n",
      "        mysql       0.84      0.96      0.89       608\n",
      "   javascript       0.87      0.95      0.91       638\n",
      "         html       0.77      0.89      0.83       601\n",
      "\n",
      "    micro avg       0.79      0.79      0.79     12000\n",
      "    macro avg       0.79      0.79      0.78     12000\n",
      " weighted avg       0.79      0.79      0.78     12000\n",
      "\n"
     ]
    }
   ],
   "source": [
    "sgd = Pipeline([('vect', CountVectorizer()), # same as before\n",
    "                ('tfidf', TfidfTransformer()), # same as before\n",
    "                ('clf', SGDClassifier(loss='hinge', # linear SVM: parameters?\n",
    "                                      penalty='l2',\n",
    "                                      alpha=1e-3,\n",
    "                                      random_state=42,\n",
    "                                      max_iter=5,\n",
    "                                      tol=None)),\n",
    "               ])\n",
    "\n",
    "sgd.fit(X_train, y_train) # training\n",
    "\n",
    "y_pred = sgd.predict(X_test) # test\n",
    "\n",
    "# print report\n",
    "print('accuracy %s' % accuracy_score(y_pred, y_test))\n",
    "print(classification_report(y_test, y_pred,target_names=my_tags))"
   ]
  },
  {
   "cell_type": "markdown",
   "metadata": {},
   "source": [
    "SVM results in a small, but not negligible, improvement. What's the trade-off? Can it get even better tweaking the parameters?"
   ]
  },
  {
   "cell_type": "markdown",
   "metadata": {},
   "source": [
    "## Third model: logistic regression"
   ]
  },
  {
   "cell_type": "code",
   "execution_count": 14,
   "metadata": {},
   "outputs": [
    {
     "name": "stderr",
     "output_type": "stream",
     "text": [
      "/usr/local/lib/python3.5/dist-packages/sklearn/linear_model/logistic.py:433: FutureWarning: Default solver will be changed to 'lbfgs' in 0.22. Specify a solver to silence this warning.\n",
      "  FutureWarning)\n",
      "/usr/local/lib/python3.5/dist-packages/sklearn/linear_model/logistic.py:460: FutureWarning: Default multi_class will be changed to 'auto' in 0.22. Specify the multi_class option to silence this warning.\n",
      "  \"this warning.\", FutureWarning)\n"
     ]
    },
    {
     "name": "stdout",
     "output_type": "stream",
     "text": [
      "accuracy 0.7823333333333333\n",
      "               precision    recall  f1-score   support\n",
      "\n",
      "           c#       0.70      0.62      0.66       613\n",
      "      asp.net       0.91      0.91      0.91       620\n",
      "  objective-c       0.97      0.94      0.95       587\n",
      "         .net       0.78      0.77      0.78       586\n",
      "       python       0.77      0.81      0.79       599\n",
      "    angularjs       0.60      0.58      0.59       589\n",
      "       iphone       0.78      0.75      0.76       594\n",
      "ruby-on-rails       0.82      0.85      0.83       610\n",
      "          ios       0.69      0.71      0.70       617\n",
      "            c       0.61      0.59      0.60       587\n",
      "          sql       0.63      0.63      0.63       611\n",
      "         java       0.83      0.83      0.83       594\n",
      "       jquery       0.78      0.78      0.78       619\n",
      "          css       0.84      0.85      0.85       574\n",
      "          c++       0.80      0.83      0.82       584\n",
      "          php       0.65      0.64      0.65       578\n",
      "      android       0.82      0.85      0.83       591\n",
      "        mysql       0.91      0.91      0.91       608\n",
      "   javascript       0.96      0.94      0.95       638\n",
      "         html       0.78      0.83      0.80       601\n",
      "\n",
      "    micro avg       0.78      0.78      0.78     12000\n",
      "    macro avg       0.78      0.78      0.78     12000\n",
      " weighted avg       0.78      0.78      0.78     12000\n",
      "\n"
     ]
    }
   ],
   "source": [
    "logreg = Pipeline([('vect', CountVectorizer()),\n",
    "                ('tfidf', TfidfTransformer()),\n",
    "                ('clf', LogisticRegression(n_jobs=1, # parameters?\n",
    "                                           C=1e5)),\n",
    "               ])\n",
    "\n",
    "logreg.fit(X_train, y_train) # training\n",
    "\n",
    "y_pred = logreg.predict(X_test) # test\n",
    "\n",
    "# print report\n",
    "print('accuracy %s' % accuracy_score(y_pred, y_test))\n",
    "print(classification_report(y_test, y_pred,target_names=my_tags))"
   ]
  },
  {
   "cell_type": "markdown",
   "metadata": {},
   "source": [
    "Worse than SVM, better than Naive Bayes. \n",
    "\n",
    "Next, we look at other feature representations."
   ]
  },
  {
   "cell_type": "markdown",
   "metadata": {},
   "source": [
    "## Fourth model: logistic regression\n",
    "\n",
    "With word2vec embeddings feature representation.\n",
    "\n",
    "Pre-trained word2vec model can be downloaded from https://drive.google.com/uc?id=0B7XkCwpI5KDYNlNUTTlSS21pQmM&export=download and imported via gensim nlp library. "
   ]
  },
  {
   "cell_type": "code",
   "execution_count": 15,
   "metadata": {},
   "outputs": [],
   "source": [
    "wv = gensim.models.KeyedVectors.load_word2vec_format(\"embeddings/GoogleNews-vectors-negative300.bin.gz\", binary=True)\n",
    "wv.init_sims(replace=True)"
   ]
  },
  {
   "cell_type": "markdown",
   "metadata": {},
   "source": [
    "One way of leveraging word vectors is with bag-of-words: each sentence is tokenized and converted into a set of word vectors, a function of which (sum, weighted average, ...) is used as feature. This abstracts away from word order. \n",
    "\n",
    "Here we use average:"
   ]
  },
  {
   "cell_type": "code",
   "execution_count": 16,
   "metadata": {},
   "outputs": [],
   "source": [
    "def w2v_tokenize_text(text): # tokenizer\n",
    "    tokens = []\n",
    "    for sent in nltk.sent_tokenize(text, language='english'):\n",
    "        for word in nltk.word_tokenize(sent, language='english'):\n",
    "            if len(word) < 2:\n",
    "                continue\n",
    "            tokens.append(word)\n",
    "    return tokens\n",
    "\n",
    "def word_averaging(wv, words): # word vector lookup and averaging sentence-wise\n",
    "    all_words, mean = set(), []\n",
    "    \n",
    "    for word in words:\n",
    "        if isinstance(word, np.ndarray):\n",
    "            mean.append(word)\n",
    "        elif word in wv.vocab:\n",
    "            mean.append(wv.syn0norm[wv.vocab[word].index])\n",
    "            all_words.add(wv.vocab[word].index)\n",
    "\n",
    "    if not mean:\n",
    "        logging.warning(\"cannot compute similarity with no input %s\", words)\n",
    "        # TO DO: remove these examples in pre-processing\n",
    "        return np.zeros(wv.vector_size,)\n",
    "\n",
    "    mean = gensim.matutils.unitvec(np.array(mean).mean(axis=0)).astype(np.float32)\n",
    "    return mean\n",
    "\n",
    "def  word_averaging_list(wv, text_list): # this is the function which will be applied to posts\n",
    "    return np.vstack([word_averaging(wv, post) for post in text_list])"
   ]
  },
  {
   "cell_type": "markdown",
   "metadata": {},
   "source": [
    "Next, we split again train and test and we apply our functions to posts:"
   ]
  },
  {
   "cell_type": "code",
   "execution_count": 17,
   "metadata": {},
   "outputs": [
    {
     "name": "stderr",
     "output_type": "stream",
     "text": [
      "/usr/local/lib/python3.5/dist-packages/ipykernel_launcher.py:17: DeprecationWarning: Call to deprecated `syn0norm` (Attribute will be removed in 4.0.0, use self.vectors_norm instead).\n",
      "WARNING:root:cannot compute similarity with no input []\n"
     ]
    }
   ],
   "source": [
    "train, test = train_test_split(df, test_size=0.3, random_state = 42)\n",
    "\n",
    "train_tokenized = train.apply(lambda r: w2v_tokenize_text(r['post']), axis=1).values\n",
    "test_tokenized = test.apply(lambda r: w2v_tokenize_text(r['post']), axis=1).values\n",
    "\n",
    "train_word_average = word_averaging_list(wv,train_tokenized)\n",
    "test_word_average = word_averaging_list(wv,test_tokenized)"
   ]
  },
  {
   "cell_type": "markdown",
   "metadata": {},
   "source": [
    "We fit logistic regression with the processed features:"
   ]
  },
  {
   "cell_type": "code",
   "execution_count": 18,
   "metadata": {},
   "outputs": [
    {
     "name": "stderr",
     "output_type": "stream",
     "text": [
      "/usr/local/lib/python3.5/dist-packages/sklearn/linear_model/logistic.py:433: FutureWarning: Default solver will be changed to 'lbfgs' in 0.22. Specify a solver to silence this warning.\n",
      "  FutureWarning)\n",
      "/usr/local/lib/python3.5/dist-packages/sklearn/linear_model/logistic.py:460: FutureWarning: Default multi_class will be changed to 'auto' in 0.22. Specify the multi_class option to silence this warning.\n",
      "  \"this warning.\", FutureWarning)\n"
     ]
    },
    {
     "name": "stdout",
     "output_type": "stream",
     "text": [
      "accuracy 0.6380833333333333\n",
      "               precision    recall  f1-score   support\n",
      "\n",
      "           c#       0.63      0.59      0.61       613\n",
      "      asp.net       0.74      0.76      0.75       620\n",
      "  objective-c       0.65      0.67      0.66       587\n",
      "         .net       0.53      0.52      0.52       586\n",
      "       python       0.70      0.77      0.73       599\n",
      "    angularjs       0.44      0.39      0.41       589\n",
      "       iphone       0.65      0.60      0.63       594\n",
      "ruby-on-rails       0.73      0.80      0.76       610\n",
      "          ios       0.61      0.61      0.61       617\n",
      "            c       0.56      0.52      0.54       587\n",
      "          sql       0.55      0.50      0.52       611\n",
      "         java       0.61      0.61      0.61       594\n",
      "       jquery       0.65      0.65      0.65       619\n",
      "          css       0.61      0.57      0.59       574\n",
      "          c++       0.70      0.71      0.70       584\n",
      "          php       0.43      0.43      0.43       578\n",
      "      android       0.68      0.71      0.70       591\n",
      "        mysql       0.76      0.78      0.77       608\n",
      "   javascript       0.82      0.83      0.82       638\n",
      "         html       0.65      0.71      0.68       601\n",
      "\n",
      "    micro avg       0.64      0.64      0.64     12000\n",
      "    macro avg       0.63      0.64      0.63     12000\n",
      " weighted avg       0.63      0.64      0.64     12000\n",
      "\n"
     ]
    }
   ],
   "source": [
    "logreg = LogisticRegression(n_jobs=1, C=1e5) # initialize classifier\n",
    "\n",
    "logreg = logreg.fit(train_word_average, train['tags']) # train\n",
    "\n",
    "y_pred = logreg.predict(test_word_average) # inference\n",
    "\n",
    "# print report\n",
    "print('accuracy %s' % accuracy_score(y_pred, test.tags))\n",
    "print(classification_report(test.tags, y_pred,target_names=my_tags))"
   ]
  },
  {
   "cell_type": "markdown",
   "metadata": {},
   "source": [
    "The worst result so far."
   ]
  },
  {
   "cell_type": "markdown",
   "metadata": {},
   "source": [
    "## Deep learning (with Keras)"
   ]
  },
  {
   "cell_type": "code",
   "execution_count": 19,
   "metadata": {},
   "outputs": [
    {
     "name": "stderr",
     "output_type": "stream",
     "text": [
      "Using TensorFlow backend.\n"
     ]
    }
   ],
   "source": [
    "import tensorflow\n",
    "import keras\n",
    "from keras.models import Sequential\n",
    "from keras.layers import Dense, Activation, Dropout\n",
    "from keras.preprocessing import text, sequence\n",
    "from keras import utils"
   ]
  },
  {
   "cell_type": "code",
   "execution_count": 20,
   "metadata": {},
   "outputs": [],
   "source": [
    "# pre-processing and settings\n",
    "\n",
    "train_size = int(len(df) * .7) # split train and test data\n",
    "train_posts = df['post'][:train_size]\n",
    "train_tags = df['tags'][:train_size]\n",
    "\n",
    "test_posts = df['post'][train_size:]\n",
    "test_tags = df['tags'][train_size:]\n",
    "\n",
    "max_words = 1000 # tokenize\n",
    "tokenize = text.Tokenizer(num_words=max_words, char_level=False)\n",
    "tokenize.fit_on_texts(train_posts)\n",
    "\n",
    "x_train = tokenize.texts_to_matrix(train_posts)\n",
    "x_test = tokenize.texts_to_matrix(test_posts)\n",
    "\n",
    "encoder = LabelEncoder() # encode labels\n",
    "encoder.fit(train_tags)\n",
    "y_train = encoder.transform(train_tags)\n",
    "y_test = encoder.transform(test_tags)\n",
    "\n",
    "num_classes = np.max(y_train) + 1\n",
    "y_train = utils.to_categorical(y_train, num_classes)\n",
    "y_test = utils.to_categorical(y_test, num_classes)\n",
    "\n",
    "# neural network settings\n",
    "batch_size = 32\n",
    "epochs = 2"
   ]
  },
  {
   "cell_type": "code",
   "execution_count": 21,
   "metadata": {},
   "outputs": [
    {
     "name": "stderr",
     "output_type": "stream",
     "text": [
      "WARNING:tensorflow:From /usr/local/lib/python3.5/dist-packages/tensorflow/python/framework/op_def_library.py:263: colocate_with (from tensorflow.python.framework.ops) is deprecated and will be removed in a future version.\n",
      "Instructions for updating:\n",
      "Colocations handled automatically by placer.\n",
      "WARNING:tensorflow:From /usr/local/lib/python3.5/dist-packages/keras/backend/tensorflow_backend.py:3445: calling dropout (from tensorflow.python.ops.nn_ops) with keep_prob is deprecated and will be removed in a future version.\n",
      "Instructions for updating:\n",
      "Please use `rate` instead of `keep_prob`. Rate should be set to `rate = 1 - keep_prob`.\n"
     ]
    }
   ],
   "source": [
    "# define model\n",
    "model = Sequential()\n",
    "model.add(Dense(512, input_shape=(max_words,)))\n",
    "model.add(Activation('relu'))\n",
    "model.add(Dropout(0.5))\n",
    "model.add(Dense(num_classes))\n",
    "model.add(Activation('softmax'))\n",
    "\n",
    "# compile\n",
    "model.compile(loss='categorical_crossentropy',\n",
    "              optimizer='adam',\n",
    "              metrics=['accuracy'])"
   ]
  },
  {
   "cell_type": "code",
   "execution_count": 22,
   "metadata": {},
   "outputs": [
    {
     "name": "stderr",
     "output_type": "stream",
     "text": [
      "WARNING:tensorflow:From /usr/local/lib/python3.5/dist-packages/tensorflow/python/ops/math_ops.py:3066: to_int32 (from tensorflow.python.ops.math_ops) is deprecated and will be removed in a future version.\n",
      "Instructions for updating:\n",
      "Use tf.cast instead.\n"
     ]
    },
    {
     "name": "stdout",
     "output_type": "stream",
     "text": [
      "Train on 25200 samples, validate on 2800 samples\n",
      "Epoch 1/2\n",
      "25200/25200 [==============================] - 12s 474us/step - loss: 1.0308 - acc: 0.7192 - val_loss: 0.6655 - val_acc: 0.7968\n",
      "Epoch 2/2\n",
      "25200/25200 [==============================] - 11s 454us/step - loss: 0.5745 - acc: 0.8150 - val_loss: 0.6574 - val_acc: 0.7936\n"
     ]
    }
   ],
   "source": [
    "# train\n",
    "history = model.fit(x_train, y_train,\n",
    "                    batch_size=batch_size,\n",
    "                    epochs=epochs,\n",
    "                    verbose=1,\n",
    "                    validation_split=0.1)"
   ]
  },
  {
   "cell_type": "code",
   "execution_count": 23,
   "metadata": {},
   "outputs": [
    {
     "name": "stdout",
     "output_type": "stream",
     "text": [
      "12000/12000 [==============================] - 1s 115us/step\n",
      "Test accuracy: 0.7963333333333333\n"
     ]
    }
   ],
   "source": [
    "# accuracy on test set\n",
    "score = model.evaluate(x_test, y_test,\n",
    "                       batch_size=batch_size, verbose=1)\n",
    "print('Test accuracy:', score[1])"
   ]
  }
 ],
 "metadata": {
  "kernelspec": {
   "display_name": "Python 3",
   "language": "python",
   "name": "python3"
  },
  "language_info": {
   "codemirror_mode": {
    "name": "ipython",
    "version": 3
   },
   "file_extension": ".py",
   "mimetype": "text/x-python",
   "name": "python",
   "nbconvert_exporter": "python",
   "pygments_lexer": "ipython3",
   "version": "3.5.2"
  }
 },
 "nbformat": 4,
 "nbformat_minor": 2
}
