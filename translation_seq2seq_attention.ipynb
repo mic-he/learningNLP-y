{
 "cells": [
  {
   "cell_type": "markdown",
   "metadata": {},
   "source": [
    "# Automatic translation with seq2seq + attention"
   ]
  },
  {
   "cell_type": "markdown",
   "metadata": {},
   "source": [
    "This tutorial is available at https://pytorch.org/tutorials/intermediate/seq2seq_translation_tutorial.html#sphx-glr-intermediate-seq2seq-translation-tutorial-py\n",
    "\n",
    "We use a sequence-to-sequence model, combining two recurrent neural networks: the encoder translates the input sequence into a vector, the decoder translates the vector back into the target language. In addition to this, a so-called attention mechanism makes it so the model learns to focus on a specific range of the input seq."
   ]
  },
  {
   "cell_type": "markdown",
   "metadata": {},
   "source": [
    "## The data\n",
    "The data can be downloaded at: https://download.pytorch.org/tutorial/data.zip\n",
    "\n",
    "It comes from https://tatoeba.org/ and in particular the file `data/eng-fra.txt` is a set of thousands of pairs of sentences (English-French).\n",
    "\n",
    "First of all we need to represent each word in both languages with a one-hot vector. To do so, we first define a helper class of dictionaries to associate, for each language, each word to a unique index, and to keep track of how many occurrences of each word we encounter in the data."
   ]
  },
  {
   "cell_type": "code",
   "execution_count": 1,
   "metadata": {},
   "outputs": [],
   "source": [
    "# packages\n",
    "#from io import open\n",
    "import unicodedata\n",
    "import string\n",
    "import re\n",
    "import random"
   ]
  },
  {
   "cell_type": "code",
   "execution_count": 2,
   "metadata": {},
   "outputs": [],
   "source": [
    "# helper class Lang\n",
    "SOS_token = 0 # manually set start-of-sentence and end-of-sentence tokens\n",
    "EOS_token = 1\n",
    "\n",
    "class Lang:\n",
    "    def __init__(self, name):\n",
    "        self.name = name\n",
    "        self.word2index = {}\n",
    "        self.word2count = {}\n",
    "        self.index2word = {0: \"SOS\", 1: \"EOS\"}\n",
    "        self.n_words = 2  # count SOS and EOS\n",
    "\n",
    "    def addWord(self, word): # function to add a word to the dictionaries\n",
    "        if word not in self.word2index:\n",
    "            self.word2index[word] = self.n_words # index is progressive with the order in which words are found\n",
    "            self.word2count[word] = 1\n",
    "            self.index2word[self.n_words] = word\n",
    "            self.n_words += 1\n",
    "        else:\n",
    "            self.word2count[word] += 1 # if the word was already in the dict, simply increase counter\n",
    "        \n",
    "    def addSentence(self, sentence): # function to add a sentence to the dictionary\n",
    "        for word in sentence.split(' '):\n",
    "            self.addWord(word)"
   ]
  },
  {
   "cell_type": "markdown",
   "metadata": {},
   "source": [
    "For example:"
   ]
  },
  {
   "cell_type": "code",
   "execution_count": 17,
   "metadata": {},
   "outputs": [],
   "source": [
    "# create Lang object\n",
    "test = Lang(\"test\")\n",
    "\n",
    "# add sentence\n",
    "test.addSentence(\"colorless green ideas\")"
   ]
  },
  {
   "cell_type": "code",
   "execution_count": 18,
   "metadata": {},
   "outputs": [
    {
     "data": {
      "text/plain": [
       "{'colorless': 2, 'green': 3, 'ideas': 4}"
      ]
     },
     "execution_count": 18,
     "metadata": {},
     "output_type": "execute_result"
    }
   ],
   "source": [
    "# inspect dictionary\n",
    "test.word2index"
   ]
  },
  {
   "cell_type": "code",
   "execution_count": 19,
   "metadata": {},
   "outputs": [
    {
     "data": {
      "text/plain": [
       "{'brown': 7,\n",
       " 'colorless': 2,\n",
       " 'fox': 8,\n",
       " 'green': 3,\n",
       " 'ideas': 4,\n",
       " 'quick': 6,\n",
       " 'the': 5}"
      ]
     },
     "execution_count": 19,
     "metadata": {},
     "output_type": "execute_result"
    }
   ],
   "source": [
    "# add another sentence\n",
    "test.addSentence(\"the quick brown fox\")\n",
    "\n",
    "# inspect dictionary\n",
    "test.word2index"
   ]
  },
  {
   "cell_type": "code",
   "execution_count": 20,
   "metadata": {},
   "outputs": [
    {
     "data": {
      "text/plain": [
       "{'a': 10,\n",
       " 'brown': 7,\n",
       " 'colorless': 2,\n",
       " 'fox': 8,\n",
       " 'green': 3,\n",
       " 'ideas': 4,\n",
       " 'of': 9,\n",
       " 'quick': 6,\n",
       " 'the': 5}"
      ]
     },
     "execution_count": 20,
     "metadata": {},
     "output_type": "execute_result"
    }
   ],
   "source": [
    "# add another sentence\n",
    "test.addSentence(\"the ideas of a green fox\")\n",
    "\n",
    "# inspect dictionary\n",
    "test.word2index"
   ]
  },
  {
   "cell_type": "code",
   "execution_count": 21,
   "metadata": {},
   "outputs": [
    {
     "data": {
      "text/plain": [
       "{'a': 1,\n",
       " 'brown': 1,\n",
       " 'colorless': 1,\n",
       " 'fox': 2,\n",
       " 'green': 2,\n",
       " 'ideas': 2,\n",
       " 'of': 1,\n",
       " 'quick': 1,\n",
       " 'the': 2}"
      ]
     },
     "execution_count": 21,
     "metadata": {},
     "output_type": "execute_result"
    }
   ],
   "source": [
    "# counts\n",
    "test.word2count"
   ]
  },
  {
   "cell_type": "markdown",
   "metadata": {},
   "source": [
    "Next, we simplify the data a bit turning it into ASCII (from Unicode), lowercasing and stripping (most) punctuation."
   ]
  },
  {
   "cell_type": "code",
   "execution_count": 22,
   "metadata": {},
   "outputs": [],
   "source": [
    "# turn a Unicode string to plain ASCII (see https://stackoverflow.com/a/518232/2809427)\n",
    "def unicodeToAscii(s):\n",
    "    return ''.join(\n",
    "        c for c in unicodedata.normalize('NFD', s)\n",
    "        if unicodedata.category(c) != 'Mn'\n",
    "    )\n",
    "\n",
    "# normalization\n",
    "def normalizeString(s):\n",
    "    s = unicodeToAscii(s.lower().strip()) # to ASCII and lowercased\n",
    "    s = re.sub(r\"([.!?])\", r\" \\1\", s) # add space before <.>, <!> and <?>\n",
    "    s = re.sub(r\"[^a-zA-Z.!?]+\", r\" \", s) # remove non-letter characters except <.>, <!> and <?>\n",
    "    return s"
   ]
  },
  {
   "cell_type": "markdown",
   "metadata": {},
   "source": [
    "For example:"
   ]
  },
  {
   "cell_type": "code",
   "execution_count": 24,
   "metadata": {},
   "outputs": [
    {
     "data": {
      "text/plain": [
       "'hello ! people ?'"
      ]
     },
     "execution_count": 24,
     "metadata": {},
     "output_type": "execute_result"
    }
   ],
   "source": [
    "normalizeString(\"HeLlO! 3 people?\")"
   ]
  },
  {
   "cell_type": "markdown",
   "metadata": {},
   "source": [
    "Next, we read the data: we split the input files into lines, then each line into pairs."
   ]
  },
  {
   "cell_type": "code",
   "execution_count": 25,
   "metadata": {},
   "outputs": [],
   "source": [
    "def readLangs(lang1, lang2, reverse=False): # add a reverse option, see below\n",
    "    print(\"Reading lines...\")\n",
    "\n",
    "    # read the file and split into lines\n",
    "    lines = open('data/%s-%s.txt' % (lang1, lang2), encoding='utf-8').read().strip().split('\\n')\n",
    "\n",
    "    # split every line into pairs and normalize\n",
    "    pairs = [[normalizeString(s) for s in l.split('\\t')] for l in lines]\n",
    "\n",
    "    # reverse pairs (if needed) then build Lang instances (we'll populate them later)\n",
    "    if reverse: # the data is eng --> other_lang; if we want reverse translation we can set the flag to true\n",
    "        pairs = [list(reversed(p)) for p in pairs]\n",
    "        input_lang = Lang(lang2)\n",
    "        output_lang = Lang(lang1)\n",
    "    else:\n",
    "        input_lang = Lang(lang1)\n",
    "        output_lang = Lang(lang2)\n",
    "        \n",
    "    print(\"Done!\")\n",
    "\n",
    "    return input_lang, output_lang, pairs"
   ]
  },
  {
   "cell_type": "markdown",
   "metadata": {},
   "source": [
    "For example:"
   ]
  },
  {
   "cell_type": "code",
   "execution_count": 30,
   "metadata": {},
   "outputs": [
    {
     "name": "stdout",
     "output_type": "stream",
     "text": [
      "Reading lines...\n"
     ]
    }
   ],
   "source": [
    "eng, fra, pairs = readLangs(\"eng\", \"fra\")"
   ]
  },
  {
   "cell_type": "code",
   "execution_count": 37,
   "metadata": {},
   "outputs": [
    {
     "data": {
      "text/plain": [
       "[['go .', 'va !'],\n",
       " ['run !', 'cours !'],\n",
       " ['run !', 'courez !'],\n",
       " ['wow !', 'ca alors !'],\n",
       " ['fire !', 'au feu !'],\n",
       " ['help !', 'a l aide !'],\n",
       " ['jump .', 'saute .'],\n",
       " ['stop !', 'ca suffit !'],\n",
       " ['stop !', 'stop !'],\n",
       " ['stop !', 'arrete toi !']]"
      ]
     },
     "execution_count": 37,
     "metadata": {},
     "output_type": "execute_result"
    }
   ],
   "source": [
    "# inspect the pairs\n",
    "pairs[0:10]"
   ]
  },
  {
   "cell_type": "code",
   "execution_count": 36,
   "metadata": {},
   "outputs": [
    {
     "name": "stdout",
     "output_type": "stream",
     "text": [
      "135842\n"
     ]
    }
   ],
   "source": [
    "# how many pairs?\n",
    "print(len(pairs))"
   ]
  },
  {
   "cell_type": "markdown",
   "metadata": {},
   "source": [
    "In order to be able to train and evaluate (and play with) a model quickly, we artificially reduce the data set in order to have only sentences which begin with the forms \"I am\", \"you are\" and similar; moreover, we set a maximum length to the sentences (say, 10 tokens)."
   ]
  },
  {
   "cell_type": "code",
   "execution_count": 40,
   "metadata": {},
   "outputs": [],
   "source": [
    "MAX_LENGTH = 10\n",
    "\n",
    "eng_prefixes = (\n",
    "    \"i am \", \"i m \", # these variants account for the apostrophes removed above\n",
    "    \"he is\", \"he s \",\n",
    "    \"she is\", \"she s \",\n",
    "    \"you are\", \"you re \",\n",
    "    \"we are\", \"we re \",\n",
    "    \"they are\", \"they re \"\n",
    ")\n",
    "\n",
    "def filterPair(p): # returns a boolean according to three conditions to be met\n",
    "    return len(p[0].split(' ')) < MAX_LENGTH and \\ # max length of both input and ouput\n",
    "        len(p[1].split(' ')) < MAX_LENGTH and \\\n",
    "        p[0].startswith(eng_prefixes) # english version must begin with prefixes above\n",
    "\n",
    "def filterPairs(pairs): # filter based on boolean above\n",
    "    return [pair for pair in pairs if filterPair(pair)]"
   ]
  },
  {
   "cell_type": "markdown",
   "metadata": {},
   "source": [
    "For example:"
   ]
  },
  {
   "cell_type": "code",
   "execution_count": 42,
   "metadata": {},
   "outputs": [
    {
     "data": {
      "text/plain": [
       "10599"
      ]
     },
     "execution_count": 42,
     "metadata": {},
     "output_type": "execute_result"
    }
   ],
   "source": [
    "# how many pairs \"survive\"?\n",
    "len(filterPairs(pairs))"
   ]
  },
  {
   "cell_type": "code",
   "execution_count": 43,
   "metadata": {},
   "outputs": [
    {
     "data": {
      "text/plain": [
       "[['i m .', 'j ai ans .'],\n",
       " ['i m ok .', 'je vais bien .'],\n",
       " ['i m ok .', 'ca va .'],\n",
       " ['i m fat .', 'je suis gras .'],\n",
       " ['i m fat .', 'je suis gros .'],\n",
       " ['i m fit .', 'je suis en forme .'],\n",
       " ['i m hit !', 'je suis touche !'],\n",
       " ['i m hit !', 'je suis touchee !'],\n",
       " ['i m ill .', 'je suis malade .'],\n",
       " ['i m sad .', 'je suis triste .']]"
      ]
     },
     "execution_count": 43,
     "metadata": {},
     "output_type": "execute_result"
    }
   ],
   "source": [
    "# take a look\n",
    "filterPairs(pairs)[0:10]"
   ]
  },
  {
   "cell_type": "markdown",
   "metadata": {},
   "source": [
    "Finally, we can bring everything together in a function:"
   ]
  },
  {
   "cell_type": "code",
   "execution_count": 45,
   "metadata": {},
   "outputs": [],
   "source": [
    "def prepareData(lang1, lang2, reverse=False):\n",
    "    input_lang, output_lang, pairs = readLangs(lang1, lang2, reverse)\n",
    "    print(\"Read %s sentence pairs\" % len(pairs))\n",
    "    pairs = filterPairs(pairs)\n",
    "    print(\"Trimmed to %s sentence pairs\" % len(pairs))\n",
    "    print(\"Counting words...\")\n",
    "    for pair in pairs: # add sentences to the dictionaries\n",
    "        input_lang.addSentence(pair[0])\n",
    "        output_lang.addSentence(pair[1])\n",
    "    print(\"Counted words:\")\n",
    "    print(input_lang.name, input_lang.n_words)\n",
    "    print(output_lang.name, output_lang.n_words)\n",
    "    return input_lang, output_lang, pairs"
   ]
  },
  {
   "cell_type": "markdown",
   "metadata": {},
   "source": [
    "For example:"
   ]
  },
  {
   "cell_type": "code",
   "execution_count": 46,
   "metadata": {},
   "outputs": [
    {
     "name": "stdout",
     "output_type": "stream",
     "text": [
      "Reading lines...\n",
      "Read 135842 sentence pairs\n",
      "Trimmed to 10599 sentence pairs\n",
      "Counting words...\n",
      "Counted words:\n",
      "eng 2803\n",
      "fra 4345\n",
      "['we re not lost .', 'nous ne sommes pas perdues .']\n"
     ]
    }
   ],
   "source": [
    "input_lang, output_lang, pairs = prepareData('eng', 'fra')\n",
    "print(random.choice(pairs))"
   ]
  },
  {
   "cell_type": "markdown",
   "metadata": {},
   "source": [
    "Great! We can now move to..."
   ]
  },
  {
   "cell_type": "markdown",
   "metadata": {},
   "source": [
    "## The model"
   ]
  }
 ],
 "metadata": {
  "kernelspec": {
   "display_name": "Python 3",
   "language": "python",
   "name": "python3"
  },
  "language_info": {
   "codemirror_mode": {
    "name": "ipython",
    "version": 3
   },
   "file_extension": ".py",
   "mimetype": "text/x-python",
   "name": "python",
   "nbconvert_exporter": "python",
   "pygments_lexer": "ipython3",
   "version": "3.5.2"
  }
 },
 "nbformat": 4,
 "nbformat_minor": 2
}
